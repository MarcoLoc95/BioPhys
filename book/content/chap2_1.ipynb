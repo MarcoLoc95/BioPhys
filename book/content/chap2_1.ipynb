{
 "cells": [
  {
   "cell_type": "markdown",
   "metadata": {},
   "source": [
    "# Complements of calculus\n",
    "\n",
    "This section is optional to the reader who is experienced in calculus already, but extremely useful to the student whom still struggles with it."
   ]
  },
  {
   "cell_type": "markdown",
   "metadata": {},
   "source": [
    "> **Note**\n",
    ">\n",
    ">In the following sections you will find some interactive tools to help you visualize the mathematical concepts presented. To run the simulations you first need to click {fa}`rocket` --> {guilabel}`Live Code` on the top right corner of this page, and wait until the kernel has loaded. Then, you need to run the block of code by clicking {guilabel}`run`.\n",
    ">"
   ]
  },
  {
   "cell_type": "markdown",
   "metadata": {},
   "source": [
    "### Functions\n",
    "\n",
    "### Derivatives\n",
    "\n",
    "### Integrals\n",
    "\n",
    "### Differential equations"
   ]
  }
 ],
 "metadata": {
  "language_info": {
   "name": "python"
  }
 },
 "nbformat": 4,
 "nbformat_minor": 2
}
